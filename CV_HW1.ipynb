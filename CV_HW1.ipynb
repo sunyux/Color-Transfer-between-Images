{
  "nbformat": 4,
  "nbformat_minor": 0,
  "metadata": {
    "colab": {
      "provenance": [],
      "authorship_tag": "ABX9TyNlKxHXuNFkBwCZMy5hO3/B",
      "include_colab_link": true
    },
    "kernelspec": {
      "name": "python3",
      "display_name": "Python 3"
    },
    "language_info": {
      "name": "python"
    }
  },
  "cells": [
    {
      "cell_type": "markdown",
      "metadata": {
        "id": "view-in-github",
        "colab_type": "text"
      },
      "source": [
        "<a href=\"https://colab.research.google.com/github/sunyux/Color-Transfer-between-Images/blob/main/CV_HW1.ipynb\" target=\"_parent\"><img src=\"https://colab.research.google.com/assets/colab-badge.svg\" alt=\"Open In Colab\"/></a>"
      ]
    },
    {
      "cell_type": "code",
      "execution_count": null,
      "metadata": {
        "id": "-bvS8aPu_AzH"
      },
      "outputs": [],
      "source": [
        "import cv2\n",
        "import numpy as np\n",
        "import sys\n",
        "import matplotlib.pyplot as plt"
      ]
    },
    {
      "cell_type": "code",
      "source": [
        "def helper3by3(matrix, img):\n",
        "\n",
        "    # apply 3by3 matrix to img vector \n",
        "    newimg = np.zeros_like(img,dtype=np.float32)\n",
        "    newimg[...,0] = img[...,0]* matrix[0][0] +  img[...,1]* matrix[0][1] + img[...,2]* matrix[0][2]\n",
        "    newimg[...,1] = img[...,0]* matrix[1][0] +  img[...,1]* matrix[1][1] + img[...,2]* matrix[1][2]\n",
        "    newimg[...,2] = img[...,0]* matrix[2][0] +  img[...,1]* matrix[2][1] + img[...,2]* matrix[2][2]\n",
        "\n",
        "    return newimg"
      ],
      "metadata": {
        "id": "YaEYlH_4upUm"
      },
      "execution_count": null,
      "outputs": []
    },
    {
      "cell_type": "code",
      "source": [
        "\n",
        "def convert_color_space_BGR_to_RGB(img_BGR):\n",
        "    img_RGB = np.zeros_like(img_BGR,dtype=np.float32)\n",
        "    img_RGB=img_BGR[...,::-1]\n",
        "    return img_RGB"
      ],
      "metadata": {
        "id": "dzlAYC5G_G4e"
      },
      "execution_count": null,
      "outputs": []
    },
    {
      "cell_type": "code",
      "source": [
        "def convert_color_space_RGB_to_BGR(img_RGB):\n",
        "    img_BGR = np.zeros_like(img_RGB,dtype=np.float32)\n",
        "    img_BGR=img_RGB[...,::-1]\n",
        "    return img_BGR"
      ],
      "metadata": {
        "id": "DTspn0LeOOw6"
      },
      "execution_count": null,
      "outputs": []
    },
    {
      "cell_type": "code",
      "source": [
        "def convert_color_space_RGB_to_Lab(img_RGB):\n",
        "    '''\n",
        "    convert image color space RGB to Lab\n",
        "    '''\n",
        "    img_LMS = np.zeros_like(img_RGB,dtype=np.float32)\n",
        "    LMS_RGB=np.array([[0.3811,0.5783,0.0402],[0.1967,0.7244,0.0782],[0.0241,0.1288,0.8444]])\n",
        "    img_LMS[...,0] = np.log10(0.3811*img_RGB[:, :, 0] + 0.5783* img_RGB[:, :, 1]+ 0.0402*img_RGB[:, :, 2]) \n",
        "    img_LMS[...,1] =  np.log10(0.1967*img_RGB[:, :, 0] + 0.7244*img_RGB[:, :, 1] + 0.0782*img_RGB[:, :, 2]) \n",
        "    img_LMS[...,2] = np.log10(0.0241*img_RGB[:, :, 0] + 0.1288*img_RGB[:, :, 1] + 0.8444*img_RGB[:, :, 2])\n",
        "\n",
        "    img_Lab = np.zeros_like(img_RGB,dtype=np.float32)\n",
        "    Lab_LMS1=np.array([[1/np.sqrt(3),0,0],[0,1/np.sqrt(6),0],[0,0,1/np.sqrt(2)]])\n",
        "    Lab_LMS2=np.array([[1,1,1],[1,1,-2],[1,-1,0]])\n",
        "    Lab_LMS=np.matmul(Lab_LMS1,Lab_LMS2)\n",
        "    img_Lab=helper3by3(Lab_LMS,img_LMS)\n",
        "    return img_Lab\n",
        "\n"
      ],
      "metadata": {
        "id": "jpdThA5N09Kq"
      },
      "execution_count": null,
      "outputs": []
    },
    {
      "cell_type": "code",
      "source": [
        "def convert_color_space_Lab_to_RGB(img_Lab):\n",
        "    '''\n",
        "    convert image color space Lab to RGB\n",
        "    '''\n",
        "    img_LMS = np.zeros_like(img_Lab,dtype=np.float32)\n",
        "    LMS_Lab1=np.array([[1,1,1],[1,1,-1],[1,-2,0]])\n",
        "    LMS_Lab2=np.array([[1/np.sqrt(3),0,0],[0,1/np.sqrt(6),0],[0,0,1/np.sqrt(2)]])\n",
        "    LMS_Lab=np.matmul(LMS_Lab1,LMS_Lab2)\n",
        "    img_LMS=helper3by3(LMS_Lab, img_Lab)\n",
        "\n",
        "    img_RGB = np.zeros_like(img_Lab,dtype=np.float32)\n",
        "    RGB_LMS=np.array([[4.4679,-3.5873,0.1193],[-1.2186,2.3809,-0.1624],[0.0497,-0.2439,1.2045]])\n",
        "    img_LMS = np.power(10, img_LMS)\n",
        "    img_RGB = helper3by3(RGB_LMS, img_LMS)\n",
        "    return img_RGB"
      ],
      "metadata": {
        "id": "sT5MKoft3zED"
      },
      "execution_count": null,
      "outputs": []
    },
    {
      "cell_type": "code",
      "source": [
        "def convert_color_space_RGB_to_CIECAM97s(img_RGB):\n",
        "    '''\n",
        "    convert image color space RGB to CIECAM97s\n",
        "    '''\n",
        "    img_CIECAM97s = np.zeros_like(img_RGB,dtype=np.float32)\n",
        "    img_LMS = np.zeros_like(img_RGB,dtype=np.float32)\n",
        "    img_LMS[...,0] = np.log10(0.3811*img_RGB[:, :, 0] + 0.5783* img_RGB[:, :, 1]+ 0.0402*img_RGB[:, :, 2]) \n",
        "    img_LMS[...,1] =  np.log10(0.1967*img_RGB[:, :, 0] + 0.7244*img_RGB[:, :, 1] + 0.0782*img_RGB[:, :, 2]) \n",
        "    img_LMS[...,2] = np.log10(0.0241*img_RGB[:, :, 0] + 0.1288*img_RGB[:, :, 1] + 0.8444*img_RGB[:, :, 2])\n",
        "\n",
        "    CIECAM97s_LMS=np.array([[2.00,1.00,0.05],[1.00,-1.09,0.09],[0.11,0.11,-0.22]])\n",
        "    img_CIECAM97s=helper3by3(CIECAM97s_LMS,img_LMS)\n",
        "\n",
        "    return img_CIECAM97s"
      ],
      "metadata": {
        "id": "dDYXyJXAehoR"
      },
      "execution_count": null,
      "outputs": []
    },
    {
      "cell_type": "code",
      "source": [
        "\n",
        "def convert_color_space_CIECAM97s_to_RGB(img_CIECAM97s):\n",
        "    '''\n",
        "    convert image color space CIECAM97s to RGB\n",
        "    '''\n",
        "    img_LMS = np.zeros_like(img_CIECAM97s,dtype=np.float32)\n",
        "    CIECAM97s_LMS=np.array([[2.00,1.00,0.05],[1.00,-1.09,0.09],[0.11,0.11,-0.22]])\n",
        "    LMS_CIECIA97s=np.linalg.inv(CIECAM97s_LMS)\n",
        "    img_LMS=helper3by3(LMS_CIECIA97s,img_CIECAM97s)\n",
        "\n",
        "    img_RGB = np.zeros_like(img_CIECAM97s,dtype=np.float32)\n",
        "    img_LMS = np.power(10, img_LMS)\n",
        "    RGB_LMS=np.array([[4.4679,-3.5873,0.1193],[-1.2186,2.3809,-0.1624],[0.0497,-0.2439,1.2045]])\n",
        "    img_RGB=helper3by3(RGB_LMS,img_LMS)\n",
        "    return img_RGB"
      ],
      "metadata": {
        "id": "rglwjD1ohNeP"
      },
      "execution_count": null,
      "outputs": []
    },
    {
      "cell_type": "code",
      "source": [
        "def transfer(img_source,img_target):\n",
        "  # Split the images into their color channels\n",
        "  s_channel0 = img_source[:, :, 0]\n",
        "  s_channel1 = img_source[:, :, 1]\n",
        "  s_channel2 = img_source[:, :, 2]\n",
        "  t_channel0 = img_target[:, :, 0]\n",
        "  t_channel1 = img_target[:, :, 1]\n",
        "  t_channel2 = img_target[:, :, 2]  \n",
        "  result=np.zeros_like(img_source,dtype=np.float32)\n",
        "  # Calculate the mean and standard deviation of each channel\n",
        "  t0mean=np.mean(t_channel0)\n",
        "  t1mean=np.mean(t_channel1)\n",
        "  t2mean=np.mean(t_channel2)\n",
        "  s0mean=np.mean(s_channel0)\n",
        "  s1mean=np.mean(s_channel1)\n",
        "  s2mean=np.mean(s_channel2)\n",
        "  t0std=np.std(t_channel0-t0mean)\n",
        "  t1std=np.std(t_channel1-t1mean)\n",
        "  t2std=np.std(t_channel2-t2mean)\n",
        "  s0std=np.std(s_channel0-s0mean)\n",
        "  s1std=np.std(s_channel1-s1mean)\n",
        "  s2std=np.std(s_channel2-s2mean)\n",
        "  # Transfer the color distribution of the source image to the target image\n",
        "  for row in range(0,img_source.shape[0]):\n",
        "            for col in range(0,img_source.shape[1]):\n",
        "              result[row,col][0] = (t0std/s0std)*(img_source[row,col][0] - s0mean) + t0mean\n",
        "              result[row,col][1] = (t1std/s1std)*(img_source[row,col][1] - s1mean) + t1mean\n",
        "              result[row,col][2] = (t2std/s2std)*(img_source[row,col][2] - s2mean) + t2mean\n",
        "  #print(result)\n",
        "  return result\n",
        "  "
      ],
      "metadata": {
        "id": "okF5PVwCqMJG"
      },
      "execution_count": null,
      "outputs": []
    },
    {
      "cell_type": "code",
      "source": [
        "def color_transfer_in_Lab(img_RGB_source, img_RGB_target):\n",
        "    print('===== color_transfer_in_Lab =====')\n",
        "    img_Lab_source=convert_color_space_RGB_to_Lab(img_RGB_source)\n",
        "    img_Lab_target=convert_color_space_RGB_to_Lab(img_RGB_target)\n",
        "    img_Lab=transfer(img_Lab_source,img_Lab_target)\n",
        "    #print(img_Lab)\n",
        "    img_RGB = convert_color_space_Lab_to_RGB(img_Lab)\n",
        "    #img_RGB = np.clip(img_RGB, 0, 1)\n",
        "    #print(img_RGB)\n",
        "    return img_RGB"
      ],
      "metadata": {
        "id": "lwH5SqJeckG-"
      },
      "execution_count": null,
      "outputs": []
    },
    {
      "cell_type": "code",
      "source": [
        "def color_transfer_in_RGB(img_RGB_source, img_RGB_target):\n",
        "    print('===== color_transfer_in_RGB =====')  \n",
        "    img_RGB=transfer(img_RGB_source,img_RGB_target)\n",
        "    #print(img_RGB)\n",
        "    return img_RGB"
      ],
      "metadata": {
        "id": "kP009WcpcmG4"
      },
      "execution_count": null,
      "outputs": []
    },
    {
      "cell_type": "code",
      "source": [
        "def color_transfer_in_CIECAM97s(img_RGB_source, img_RGB_target):\n",
        "    print('===== color_transfer_in_CIECAM97s =====')\n",
        "    img_CIECAM97s_source=convert_color_space_RGB_to_CIECAM97s(img_RGB_source)\n",
        "    img_CIECAM97s_target=convert_color_space_RGB_to_CIECAM97s(img_RGB_target)\n",
        "    img_CIECAM97s=transfer(img_CIECAM97s_source,img_CIECAM97s_target)\n",
        "    #print(img_Lab)\n",
        "    img_RGB = convert_color_space_Lab_to_RGB(img_CIECAM97s)\n",
        "    #print(img_RGB)\n",
        "    return img_RGB\n"
      ],
      "metadata": {
        "id": "Z3PSc7bEcn-G"
      },
      "execution_count": null,
      "outputs": []
    },
    {
      "cell_type": "code",
      "source": [
        "def color_transfer(img_RGB_source, img_RGB_target, option):\n",
        "    if option == 'in_RGB':\n",
        "        img_RGB_new = color_transfer_in_RGB(img_RGB_source, img_RGB_target)\n",
        "    elif option == 'in_Lab':\n",
        "        img_RGB_new = color_transfer_in_Lab(img_RGB_source, img_RGB_target)\n",
        "    elif option == 'in_CIECAM97s':\n",
        "        img_RGB_new = color_transfer_in_CIECAM97s(img_RGB_source, img_RGB_target)\n",
        "    return img_RGB_new"
      ],
      "metadata": {
        "id": "g6dSfDlZceyD"
      },
      "execution_count": null,
      "outputs": []
    },
    {
      "cell_type": "code",
      "source": [
        "\n",
        "def rmse(apath,bpath):\n",
        "    \"\"\"\n",
        "    This is the help function to get RMSE score.\n",
        "    apath: path to your result\n",
        "    bpath: path to our reference image\n",
        "    when saving your result to disk, please clip it to 0,255:\n",
        "    .clip(0.0, 255.0).astype(np.uint8))\n",
        "    \"\"\"\n",
        "    a = cv2.imread(apath).astype(np.float32)\n",
        "    b = cv2.imread(bpath).astype(np.float32)\n",
        "    print(np.sqrt(np.mean((a-b)**2)))"
      ],
      "metadata": {
        "id": "H9mmS7S_CURa"
      },
      "execution_count": null,
      "outputs": []
    },
    {
      "cell_type": "code",
      "source": [
        "rmse('resi')"
      ],
      "metadata": {
        "id": "6lb7LsJ5wZDI"
      },
      "execution_count": null,
      "outputs": []
    },
    {
      "cell_type": "code",
      "source": [
        "if __name__ == \"__main__\":\n",
        "    print('==================================================')\n",
        "    print('PSU CS 410/510, Winter 2022, HW1: color transfer')\n",
        "    print('==================================================')\n",
        "\n",
        "    path_file_image_source = sys.argv[1]\n",
        "    path_file_image_target = sys.argv[2]\n",
        "    path_file_image_result_in_Lab = sys.argv[3]\n",
        "    path_file_image_result_in_RGB = sys.argv[4]\n",
        "    path_file_image_result_in_CIECAM97s = sys.argv[5]\n",
        "\n",
        "    # ===== read input images\n",
        "    # img_RGB_source: is the image you want to change the its color\n",
        "    # img_RGB_target: is the image containing the color distribution that you want to change the img_RGB_source to (transfer color of the img_RGB_target to the img_RGB_source)\n",
        "    img_BGR_target = cv2.imread(filename= path_file_image_target).astype(np.float32)/255.0\n",
        "    img_BGR_source = cv2.imread(filename=path_file_image_source).astype(np.float32)/255.0\n",
        "    img_RGB_source=convert_color_space_BGR_to_RGB(img_BGR_source)\n",
        "    img_RGB_target=convert_color_space_BGR_to_RGB(img_BGR_target)\n",
        "    img_RGB_new_Lab       = color_transfer(img_RGB_source, img_RGB_target, option='in_Lab')\n",
        "    img_BGR_Lab=convert_color_space_RGB_to_BGR(img_RGB_new_Lab)\n",
        "    cv2.imwrite(filename=path_file_image_result_in_Lab, img=(img_BGR_Lab * 255.0).clip(0.0, 255.0).astype(np.uint8))\n",
        "    img_RGB_new_RGB       = color_transfer(img_RGB_source, img_RGB_target, option='in_RGB')\n",
        "    # todo: save image to path_file_image_result_in_RGB\n",
        "    img_BGR_RGB=convert_color_space_RGB_to_BGR(img_RGB_new_RGB)\n",
        "    cv2.imwrite(filename=path_file_image_result_in_RGB, img=(img_BGR_RGB * 255.0).clip(0.0, 255.0).astype(np.uint8))\n",
        "    img_RGB_new_CIECAM97s = color_transfer(img_RGB_source, img_RGB_target, option='in_CIECAM97s')\n",
        "    # todo: save image to path_file_image_result_in_CIECAM97s\n",
        "    img_BGR_CIECAM97s=convert_color_space_RGB_to_BGR(img_RGB_new_CIECAM97s)\n",
        "    cv2.imwrite(filename=path_file_image_result_in_CIECAM97s, img=(img_BGR_CIECAM97s * 255.0).clip(0.0, 255.0).astype(np.uint8))"
      ],
      "metadata": {
        "colab": {
          "base_uri": "https://localhost:8080/",
          "height": 294
        },
        "id": "-2S_SaWFmjF5",
        "outputId": "fb9e90eb-8438-4485-9d55-33c9862f8d8e"
      },
      "execution_count": null,
      "outputs": [
        {
          "output_type": "stream",
          "name": "stdout",
          "text": [
            "==================================================\n",
            "PSU CS 410/510, Winter 2022, HW1: color transfer\n",
            "==================================================\n"
          ]
        },
        {
          "output_type": "error",
          "ename": "IndexError",
          "evalue": "ignored",
          "traceback": [
            "\u001b[0;31m---------------------------------------------------------------------------\u001b[0m",
            "\u001b[0;31mIndexError\u001b[0m                                Traceback (most recent call last)",
            "\u001b[0;32m<ipython-input-15-ce49f694a478>\u001b[0m in \u001b[0;36m<module>\u001b[0;34m\u001b[0m\n\u001b[1;32m      6\u001b[0m     \u001b[0mpath_file_image_source\u001b[0m \u001b[0;34m=\u001b[0m \u001b[0msys\u001b[0m\u001b[0;34m.\u001b[0m\u001b[0margv\u001b[0m\u001b[0;34m[\u001b[0m\u001b[0;36m1\u001b[0m\u001b[0;34m]\u001b[0m\u001b[0;34m\u001b[0m\u001b[0;34m\u001b[0m\u001b[0m\n\u001b[1;32m      7\u001b[0m     \u001b[0mpath_file_image_target\u001b[0m \u001b[0;34m=\u001b[0m \u001b[0msys\u001b[0m\u001b[0;34m.\u001b[0m\u001b[0margv\u001b[0m\u001b[0;34m[\u001b[0m\u001b[0;36m2\u001b[0m\u001b[0;34m]\u001b[0m\u001b[0;34m\u001b[0m\u001b[0;34m\u001b[0m\u001b[0m\n\u001b[0;32m----> 8\u001b[0;31m     \u001b[0mpath_file_image_result_in_Lab\u001b[0m \u001b[0;34m=\u001b[0m \u001b[0msys\u001b[0m\u001b[0;34m.\u001b[0m\u001b[0margv\u001b[0m\u001b[0;34m[\u001b[0m\u001b[0;36m3\u001b[0m\u001b[0;34m]\u001b[0m\u001b[0;34m\u001b[0m\u001b[0;34m\u001b[0m\u001b[0m\n\u001b[0m\u001b[1;32m      9\u001b[0m     \u001b[0mpath_file_image_result_in_RGB\u001b[0m \u001b[0;34m=\u001b[0m \u001b[0msys\u001b[0m\u001b[0;34m.\u001b[0m\u001b[0margv\u001b[0m\u001b[0;34m[\u001b[0m\u001b[0;36m4\u001b[0m\u001b[0;34m]\u001b[0m\u001b[0;34m\u001b[0m\u001b[0;34m\u001b[0m\u001b[0m\n\u001b[1;32m     10\u001b[0m     \u001b[0mpath_file_image_result_in_CIECAM97s\u001b[0m \u001b[0;34m=\u001b[0m \u001b[0msys\u001b[0m\u001b[0;34m.\u001b[0m\u001b[0margv\u001b[0m\u001b[0;34m[\u001b[0m\u001b[0;36m5\u001b[0m\u001b[0;34m]\u001b[0m\u001b[0;34m\u001b[0m\u001b[0;34m\u001b[0m\u001b[0m\n",
            "\u001b[0;31mIndexError\u001b[0m: list index out of range"
          ]
        }
      ]
    }
  ]
}